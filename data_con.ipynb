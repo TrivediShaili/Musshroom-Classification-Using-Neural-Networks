{
 "cells": [
  {
   "cell_type": "code",
   "execution_count": 2,
   "id": "7e03ca6f",
   "metadata": {},
   "outputs": [
    {
     "name": "stdout",
     "output_type": "stream",
     "text": [
      "Successfully Created training.txt\n",
      "Successfully Created validation.txt\n",
      "Successfully Created testing.txt\n"
     ]
    }
   ],
   "source": [
    "import pandas\n",
    "import numpy\n",
    "\n",
    "c_Names=['label', 'cap-shape','cap-surface','cap-color','bruises','odor',\n",
    "          'gill-attachment','gill-spacing','gill-size','gill-color','stalk-shape',\n",
    "          'stalk-root','stalk-surface-above-ring','stalk-surface-below-ring',\n",
    "          'stalk-color-above-ring','stalk-color-below-ring','veil-type',\n",
    "          'veil-color','ring-number','ring-type','spore-print-color','population',\n",
    "          'habitat']\n",
    "    \n",
    "df = pandas.read_csv(\"agaricus-lepiota.data\", header=None, na_values='?', names=c_Names) #To read the csv file using pandas\n",
    "df.fillna(0) # convert all ? to 0's\n",
    "# Converting the categorical data into binary\n",
    "df = pandas.get_dummies(df)\n",
    "df.reset_index(drop=True, inplace=True) # removing the first column which displays the line number\n",
    "    \n",
    "#Split the data into training(60), validation(20) and test(20) datasets\n",
    "training, validate, testing = numpy.split(df, [int(.6*len(df)), int(.8*len(df))])\n",
    "    \n",
    "    \n",
    "# Save the data to the respective files.\n",
    "training.to_csv('training.txt', header=False, index = False)\n",
    "print(\"Successfully Created training.txt\")\n",
    "validate.to_csv('validation.txt', header=False, index = False)\n",
    "print(\"Successfully Created validation.txt\")\n",
    "testing.to_csv('testing.txt', header=False, index = False)\n",
    "print(\"Successfully Created testing.txt\")\n"
   ]
  },
  {
   "cell_type": "code",
   "execution_count": null,
   "id": "3b80199e",
   "metadata": {},
   "outputs": [],
   "source": []
  }
 ],
 "metadata": {
  "kernelspec": {
   "display_name": "Python 3 (ipykernel)",
   "language": "python",
   "name": "python3"
  },
  "language_info": {
   "codemirror_mode": {
    "name": "ipython",
    "version": 3
   },
   "file_extension": ".py",
   "mimetype": "text/x-python",
   "name": "python",
   "nbconvert_exporter": "python",
   "pygments_lexer": "ipython3",
   "version": "3.9.12"
  }
 },
 "nbformat": 4,
 "nbformat_minor": 5
}
