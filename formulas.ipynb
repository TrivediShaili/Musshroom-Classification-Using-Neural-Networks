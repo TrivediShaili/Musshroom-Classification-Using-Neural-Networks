{
 "cells": [
  {
   "cell_type": "code",
   "execution_count": 5,
   "id": "95c9754a",
   "metadata": {},
   "outputs": [],
   "source": [
    "import math\n",
    "\n",
    "\n",
    "def sig(x):\n",
    "    #use logistic function as activation function\n",
    "    return (float(1) / (float(1 + math.exp(-x)))) # formula of the Sigmoid/Logistic Activation\n",
    "\n",
    "def inv_sig(x):\n",
    "    #derivative of the output of neruon with respect to its input\n",
    "    return (1 - sig(x)) * sig(x) # Derivative of the Logistic Function\n",
    "    \n",
    "def err(o, t):\n",
    "    #squared error function, o is the actual output value and t is the target output \n",
    "    return 0.5 * ((t - o) ** 2)   #Formula for the Mean Square Error Method\n",
    "\n",
    "def inv_err(o, t):\n",
    "    #derivative of squared error function with respect to o\n",
    "    return (o - t) # Derivation of the Mean Square Error Function"
   ]
  },
  {
   "cell_type": "code",
   "execution_count": null,
   "id": "c3a83430",
   "metadata": {},
   "outputs": [],
   "source": []
  }
 ],
 "metadata": {
  "kernelspec": {
   "display_name": "Python 3 (ipykernel)",
   "language": "python",
   "name": "python3"
  },
  "language_info": {
   "codemirror_mode": {
    "name": "ipython",
    "version": 3
   },
   "file_extension": ".py",
   "mimetype": "text/x-python",
   "name": "python",
   "nbconvert_exporter": "python",
   "pygments_lexer": "ipython3",
   "version": "3.9.12"
  }
 },
 "nbformat": 4,
 "nbformat_minor": 5
}
