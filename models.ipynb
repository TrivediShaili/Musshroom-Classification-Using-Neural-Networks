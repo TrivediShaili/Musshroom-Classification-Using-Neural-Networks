{
 "cells": [
  {
   "cell_type": "code",
   "execution_count": 3,
   "id": "01a6eb47",
   "metadata": {},
   "outputs": [],
   "source": [
    "import numpy\n",
    "import random\n",
    "\n",
    "from config import LEARNING_RATE\n",
    "from formulas import sig, inv_sig, inv_err\n",
    "\n",
    "curr_node_id = 0\n",
    "\n",
    "class Layer:\n",
    "    def __init__(self, num_nodes, input_vals, layer_num):\n",
    "        self.num_nodes = num_nodes\n",
    "        self.input_vals = input_vals\n",
    "        self.layer_num = layer_num\n",
    "        self.weight = [[random.random() for col in range(len(input_vals))] for row in range(num_nodes)]\n",
    "        self.weight_delta = [[0 for col in range(len(input_vals))] for row in range(num_nodes)]\n",
    "        self.layer_net = [0 for col in range(num_nodes)]\n",
    "        self.layer_out = [0 for col in range(num_nodes)]\n",
    "        self.bias = (random.random() * 2) - 1\n",
    "\n",
    "    def eval(self):\n",
    "        #evaluation part\n",
    "        for i in range(self.num_nodes):\n",
    "            self.layer_net[i] = numpy.dot(self.input_vals, numpy.transpose(self.weight[i])) + self.bias\n",
    "            self.layer_out[i] = sig(self.layer_net[i])\n",
    "            \n",
    "\n",
    "    def backprop(self, other):\n",
    "        #use backpropagation method to update weights\n",
    "        for i in range(len(self.weight)):\n",
    "            for j in range(len(self.weight[i])):\n",
    "                if self.layer_num == 1:\n",
    "                    self.weight[i][j] = self.weight[i][j] - (LEARNING_RATE * other.weight_delta[0][i] * self.input_vals[j] * other.weight[0][i] * inv_sig(self.layer_out[i]))\n",
    "                elif self.layer_num == 2:\n",
    "                    self.weight_delta[i][j] = inv_sig(self.layer_out[i]) * inv_err(self.layer_out[i], other)\n",
    "                    self.weight[i][j] = self.weight[i][j] - (LEARNING_RATE * self.weight_delta[i][j] * self.input_vals[j])\n",
    "                \n",
    "\n",
    "class cfile():\n",
    "    def __init__(self, name, mode = 'r'):\n",
    "        #self = file.__init__(self, name, mode)\n",
    "        self.fh = open(name, mode)\n",
    "\n",
    "    def w(self, string):\n",
    "        self.fh.write(str(string) + '\\n')\n",
    "        return None\n",
    "\n",
    "    def close(self):\n",
    "        self.fh.close()"
   ]
  },
  {
   "cell_type": "code",
   "execution_count": null,
   "id": "d6c5fc74",
   "metadata": {},
   "outputs": [],
   "source": []
  },
  {
   "cell_type": "code",
   "execution_count": null,
   "id": "36690291",
   "metadata": {},
   "outputs": [],
   "source": []
  },
  {
   "cell_type": "code",
   "execution_count": null,
   "id": "4911a7ee",
   "metadata": {},
   "outputs": [],
   "source": []
  }
 ],
 "metadata": {
  "kernelspec": {
   "display_name": "Python 3 (ipykernel)",
   "language": "python",
   "name": "python3"
  },
  "language_info": {
   "codemirror_mode": {
    "name": "ipython",
    "version": 3
   },
   "file_extension": ".py",
   "mimetype": "text/x-python",
   "name": "python",
   "nbconvert_exporter": "python",
   "pygments_lexer": "ipython3",
   "version": "3.9.12"
  }
 },
 "nbformat": 4,
 "nbformat_minor": 5
}
